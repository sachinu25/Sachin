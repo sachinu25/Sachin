{
 "cells": [
  {
   "cell_type": "code",
   "execution_count": 1,
   "id": "8ace4dc9-46ae-43ff-8a3a-f2523d7dbbe8",
   "metadata": {},
   "outputs": [
    {
     "data": {
      "text/plain": [
       "<function ost.virus()>"
      ]
     },
     "execution_count": 1,
     "metadata": {},
     "output_type": "execute_result"
    }
   ],
   "source": [
    "import ost as o\n",
    "o.virus\n"
   ]
  },
  {
   "cell_type": "code",
   "execution_count": null,
   "id": "88b41672-beda-423a-804d-598c316beb6c",
   "metadata": {},
   "outputs": [],
   "source": []
  }
 ],
 "metadata": {
  "kernelspec": {
   "display_name": "Python 3 (ipykernel)",
   "language": "python",
   "name": "python3"
  },
  "language_info": {
   "codemirror_mode": {
    "name": "ipython",
    "version": 3
   },
   "file_extension": ".py",
   "mimetype": "text/x-python",
   "name": "python",
   "nbconvert_exporter": "python",
   "pygments_lexer": "ipython3",
   "version": "3.12.5"
  }
 },
 "nbformat": 4,
 "nbformat_minor": 5
}
